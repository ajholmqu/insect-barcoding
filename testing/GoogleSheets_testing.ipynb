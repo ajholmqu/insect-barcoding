{
 "cells": [
  {
   "cell_type": "markdown",
   "id": "316556bd",
   "metadata": {},
   "source": [
    "Import libraries"
   ]
  },
  {
   "cell_type": "code",
   "execution_count": 4,
   "id": "07c873a5",
   "metadata": {},
   "outputs": [],
   "source": [
    "import gspread as gs\n",
    "import pandas as pd"
   ]
  },
  {
   "cell_type": "markdown",
   "id": "34799d1d",
   "metadata": {},
   "source": [
    "Authorization (maybe need to do this only once?)"
   ]
  },
  {
   "cell_type": "code",
   "execution_count": 5,
   "id": "37518fa9",
   "metadata": {},
   "outputs": [],
   "source": [
    "gc = gs.oauth()"
   ]
  },
  {
   "cell_type": "markdown",
   "id": "addc1cc3",
   "metadata": {},
   "source": [
    "Combine CDFA plating data sheets"
   ]
  },
  {
   "cell_type": "code",
   "execution_count": 60,
   "id": "d46ba036",
   "metadata": {},
   "outputs": [],
   "source": [
    "cdfa_plating = gc.open(\"CDFA - Plating\")\n",
    "plating = []\n",
    "plating_columns = ['catalog', 'well', 'plate', 'preservation', \n",
    "                   'body_part', 'flagged', 'notes']\n",
    "\n",
    "for worksheet in cdfa_plating.worksheets():\n",
    "    ws = worksheet.title\n",
    "    if \"CDFA\" in ws and ws != \"CDFA_P2_transfer\":\n",
    "        records = worksheet.get_all_records()\n",
    "        df = pd.DataFrame(records)\n",
    "        df = df[plating_columns]\n",
    "        plating.append(df)"
   ]
  },
  {
   "cell_type": "markdown",
   "id": "5cbc7615",
   "metadata": {},
   "source": [
    "Combine CDFA metadata"
   ]
  },
  {
   "cell_type": "code",
   "execution_count": 57,
   "id": "126a0c9a",
   "metadata": {},
   "outputs": [],
   "source": [
    "cdfa_meta = gc.open(\"CDFA - Metadata\")\n",
    "meta = []\n",
    "meta_columns = ['Catalog','Order','Family','Genus', 'Species','Event Date']\n",
    "for worksheet in cdfa_meta.worksheets():\n",
    "    ws = worksheet.title\n",
    "    if \"CDFA\" in ws and ws != \"CDFA\":\n",
    "        records = worksheet.get_all_records()\n",
    "        df = pd.DataFrame(records)\n",
    "        df = df[meta_columns]\n",
    "        meta.append(df)"
   ]
  },
  {
   "cell_type": "markdown",
   "id": "627c033f",
   "metadata": {},
   "source": [
    "Merge all dataframes in each list of dataframes"
   ]
  },
  {
   "cell_type": "code",
   "execution_count": 61,
   "id": "dc7edad7",
   "metadata": {},
   "outputs": [],
   "source": [
    "plating_merged = pd.concat(plating, ignore_index = True)\n",
    "meta_merged = pd.concat(meta, ignore_index = True)"
   ]
  },
  {
   "cell_type": "markdown",
   "id": "d6b15bb1",
   "metadata": {},
   "source": [
    "Needed to change the capitals in the metadata"
   ]
  },
  {
   "cell_type": "code",
   "execution_count": 74,
   "id": "0353ac2c",
   "metadata": {},
   "outputs": [
    {
     "name": "stdout",
     "output_type": "stream",
     "text": [
      "Index(['catalog', 'order', 'family', 'genus', 'species', 'event date'], dtype='object')\n"
     ]
    }
   ],
   "source": [
    "meta_merged.columns = [x.lower() for x in list(meta_merged.columns)]"
   ]
  },
  {
   "cell_type": "markdown",
   "id": "9eb2adf5",
   "metadata": {},
   "source": [
    "Merging the CDFA data"
   ]
  },
  {
   "cell_type": "code",
   "execution_count": 126,
   "id": "55a1ded9",
   "metadata": {},
   "outputs": [],
   "source": [
    "cdfa_merged = plating_merged.join(meta_merged.set_index('catalog'), \n",
    "                                  on = 'catalog', how = 'inner')\n",
    "cdfa_merged['plate'] = 'CDFA_' + cdfa_merged['plate']"
   ]
  },
  {
   "cell_type": "code",
   "execution_count": 127,
   "id": "b57efe26",
   "metadata": {},
   "outputs": [
    {
     "data": {
      "text/plain": [
       "0        CDFA_P1\n",
       "1        CDFA_P1\n",
       "2        CDFA_P1\n",
       "3        CDFA_P1\n",
       "4        CDFA_P1\n",
       "          ...   \n",
       "2009    CDFA_P21\n",
       "2010    CDFA_P21\n",
       "2011    CDFA_P21\n",
       "2012    CDFA_P21\n",
       "2013    CDFA_P21\n",
       "Name: plate, Length: 1984, dtype: object"
      ]
     },
     "execution_count": 127,
     "metadata": {},
     "output_type": "execute_result"
    }
   ],
   "source": [
    "cdfa_merged['plate']"
   ]
  },
  {
   "cell_type": "markdown",
   "id": "2be5e049",
   "metadata": {},
   "source": [
    "Now to get CAS data"
   ]
  },
  {
   "cell_type": "code",
   "execution_count": 105,
   "id": "16b59fa7",
   "metadata": {},
   "outputs": [],
   "source": [
    "cas_plating = gc.open(\"Plating\")"
   ]
  },
  {
   "cell_type": "code",
   "execution_count": 106,
   "id": "05d03643",
   "metadata": {},
   "outputs": [],
   "source": [
    "cas_plating = pd.DataFrame(cas_plating.get_worksheet(0).get_all_records())"
   ]
  },
  {
   "cell_type": "code",
   "execution_count": 112,
   "id": "4298e454",
   "metadata": {},
   "outputs": [],
   "source": [
    "serpa = gc.open(\"serpa_metadata\")\n",
    "cas_meta = pd.DataFrame(serpa.get_worksheet(0).get_all_records())"
   ]
  },
  {
   "cell_type": "code",
   "execution_count": 136,
   "id": "b7ec5eae",
   "metadata": {},
   "outputs": [],
   "source": [
    "cas_merged = cas_plating.join(cas_meta.set_index('catalog'), \n",
    "                              on = 'catalog', how = 'inner')"
   ]
  },
  {
   "cell_type": "code",
   "execution_count": 138,
   "id": "512fe496",
   "metadata": {},
   "outputs": [
    {
     "name": "stdout",
     "output_type": "stream",
     "text": [
      "['catalog', 'well', 'plate', 'preservation', 'body_part', 'flagged', 'notes', 'order', 'family', 'genus', 'species', 'event date']\n"
     ]
    }
   ],
   "source": [
    "plating_columns = ['catalog', 'well', 'plate', 'preservation', \n",
    "                   'body_part', 'flagged', 'notes']\n",
    "meta_columns = ['order', 'family', 'genus', 'species', 'event date']\n",
    "all_cols = plating_columns + meta_columns\n",
    "print(all_cols)"
   ]
  },
  {
   "cell_type": "code",
   "execution_count": 139,
   "id": "3e10062c",
   "metadata": {},
   "outputs": [],
   "source": [
    "cas_merged = cas_merged[all_cols]"
   ]
  },
  {
   "cell_type": "code",
   "execution_count": 142,
   "id": "3dfa09b3",
   "metadata": {},
   "outputs": [],
   "source": [
    "df_concat = pd.concat([cas_merged, cdfa_merged], ignore_index = True)"
   ]
  },
  {
   "cell_type": "markdown",
   "id": "a3e74ffd",
   "metadata": {},
   "source": [
    "Download the extraction and PCR data"
   ]
  },
  {
   "cell_type": "code",
   "execution_count": 143,
   "id": "f3818f08",
   "metadata": {},
   "outputs": [],
   "source": [
    "extractions = gc.open(\"Extractions\")\n",
    "extract_data = pd.DataFrame(extractions.get_worksheet(0).get_all_records())\n",
    "extract_quant = pd.DataFrame(extractions.get_worksheet(1).get_all_records())\n",
    "\n",
    "pcr = gc.open(\"PCR\")\n",
    "pcr_success = pd.DataFrame(pcr.get_worksheet(3).get_all_records())\n"
   ]
  },
  {
   "cell_type": "code",
   "execution_count": 153,
   "id": "4dc73972",
   "metadata": {},
   "outputs": [],
   "source": [
    "lab_df = extract_data.merge(extract_quant.set_index(['catalog', 'plate', 'well']), \n",
    "                            on = ['catalog', 'plate', 'well'], how = 'left')\n",
    "\n",
    "pcr_success = pcr_success[pcr_success['catalog'] != \"\"]\n",
    "lab_df2 = lab_df.merge(pcr_success.set_index(['catalog', 'plate', 'well']), \n",
    "                            on = ['catalog', 'plate', 'well'], how = 'left')"
   ]
  }
 ],
 "metadata": {
  "kernelspec": {
   "display_name": "Python 3 (ipykernel)",
   "language": "python",
   "name": "python3"
  },
  "language_info": {
   "codemirror_mode": {
    "name": "ipython",
    "version": 3
   },
   "file_extension": ".py",
   "mimetype": "text/x-python",
   "name": "python",
   "nbconvert_exporter": "python",
   "pygments_lexer": "ipython3",
   "version": "3.11.5"
  }
 },
 "nbformat": 4,
 "nbformat_minor": 5
}
